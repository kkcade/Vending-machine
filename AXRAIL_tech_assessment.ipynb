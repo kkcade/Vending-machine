{
  "nbformat": 4,
  "nbformat_minor": 0,
  "metadata": {
    "colab": {
      "provenance": []
    },
    "kernelspec": {
      "name": "python3",
      "display_name": "Python 3"
    },
    "language_info": {
      "name": "python"
    }
  },
  "cells": [
    {
      "cell_type": "code",
      "execution_count": 14,
      "metadata": {
        "id": "g8jtlxct2-TE"
      },
      "outputs": [],
      "source": [
        "# Drinks\n",
        "drinks = {\n",
        "    \"Coke\": 2.00,\n",
        "    \"Pepsi\": 2.00,\n",
        "    \"Fanta\": 3.00,\n",
        "    \"Prime\": 90.00,\n",
        "    \"Water\": 1.00,\n",
        "    \"Juice\": 10.00,\n",
        "    \"Lemonade\": 5.00\n",
        "}\n"
      ]
    },
    {
      "cell_type": "code",
      "source": [
        "# Money notes\n",
        "notes = [50, 20, 10, 5, 1]\n",
        "\n",
        "# Calculate change\n",
        "def calculate_change(amount):\n",
        "    change = {}\n",
        "    for note in notes:\n",
        "        if amount >= note:\n",
        "            note_count = amount // note\n",
        "            change[note] = note_count\n",
        "            amount -= note * note_count\n",
        "    return change"
      ],
      "metadata": {
        "id": "su6vIeeZ3Dp9"
      },
      "execution_count": 15,
      "outputs": []
    },
    {
      "cell_type": "code",
      "source": [
        "# Vending machine\n",
        "def vending_machine():\n",
        "    print(\"Welcome to Kuan Kean Cade's Vending Machine @.@\")\n",
        "    print(\"Available drinks and their prices:\")\n",
        "    for drink, price in drinks.items():\n",
        "        print(f\"{drink}: ${price}\")\n",
        "\n",
        "    # Customer choose drink\n",
        "    while True:\n",
        "        selected_drink = input(\"Please select a drink: \").capitalize()\n",
        "        if selected_drink in drinks:\n",
        "            break\n",
        "        else:\n",
        "            print(\"Invalid selection. Please try again.\")\n",
        "\n",
        "    # Show price of drink\n",
        "    drink_price = drinks[selected_drink]\n",
        "    print(f\"The price of {selected_drink} is ${drink_price}\")\n",
        "\n",
        "    # Customer insert money\n",
        "\n",
        "    while True:\n",
        "      inserted_amount = float(input(\"Please insert money (notes only): $\"))\n",
        "      if inserted_amount >= drink_price:\n",
        "        break\n",
        "      else:\n",
        "          print(\"Insufficient funds. Please insert more money.\")\n",
        "          print(f\"Remaining charge: ${drink_price -inserted_amount }\")\n",
        "\n",
        "    # Calculate change\n",
        "    change_amount = inserted_amount - drink_price\n",
        "    change = calculate_change(change_amount)\n",
        "\n",
        "    # Dispense the drink and return change\n",
        "    print(f\"Enjoy the {selected_drink}!!!\")\n",
        "    if change:\n",
        "        print(\"Returning change:\")\n",
        "        for note, count in change.items():\n",
        "            print(f\"${note} x {count}\")\n",
        "    else:\n",
        "        print(\"No change to return.\")\n",
        "\n",
        "    print(\"See you next time!!!!\")"
      ],
      "metadata": {
        "id": "fWIYE4AO3RkV"
      },
      "execution_count": 19,
      "outputs": []
    },
    {
      "cell_type": "code",
      "source": [
        "# Run the vending machine\n",
        "vending_machine()"
      ],
      "metadata": {
        "colab": {
          "base_uri": "https://localhost:8080/"
        },
        "id": "m2y8HEXE3U9p",
        "outputId": "36a9e6ae-d1a1-45a6-867d-dc041b64b00b"
      },
      "execution_count": 22,
      "outputs": [
        {
          "output_type": "stream",
          "name": "stdout",
          "text": [
            "Welcome to Kuan Kean Cade's Vending Machine @.@\n",
            "Available drinks and their prices:\n",
            "Coke: $2.0\n",
            "Pepsi: $2.0\n",
            "Fanta: $3.0\n",
            "Prime: $90.0\n",
            "Water: $1.0\n",
            "Juice: $10.0\n",
            "Lemonade: $5.0\n",
            "Please select a drink: Fanta\n",
            "The price of Fanta is $3.0\n",
            "Please insert money (notes only): $10\n",
            "Enjoy the Fanta!!!\n",
            "Returning change:\n",
            "$5 x 1.0\n",
            "$1 x 2.0\n",
            "See you next time!!!!\n"
          ]
        }
      ]
    }
  ]
}